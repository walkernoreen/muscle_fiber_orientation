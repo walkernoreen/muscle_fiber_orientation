{
 "cells": [
  {
   "cell_type": "markdown",
   "metadata": {},
   "source": [
    "### This notebook analyzes the orientation histograms obtained by the Fiji script (analyze_fiber_orientation.py)\n",
    "\n",
    "The notebook is split into two parts. Both parts can be run independently.\n",
    "#### Part 1: analysis of a single dataset\n",
    "* Generated output:\n",
    "    * Figures with multiple histograms of different slices, with different normalization options\n",
    "    * Figure with average coherency per slice\n",
    "    * The plots are automatically saved into the folder of the input data.\n",
    "\n",
    "#### Part 2: combine multiple datasets and get statistics\n",
    "* For each dataset the slice with the strongest horizontal resp. longitudinal fiber orientation is detected. These curves are then averaged and the standard deviation is computed.\n",
    "* Generated output:\n",
    "    * Figure with average+-stddev of orientation distribution of longitudinal and circular fibers.\n",
    "    * Additionally an illustrative figure of chosen fiber distributions per dataset.\n",
    "    * The plots are automatically saved into a user-defined folder.\n",
    "\n",
    "#### Prerequisites:\n",
    "* The Fiji script analyze_fiber_orientation.py was run on a dataset.\n",
    "* For part 2: multiple datasets were analyzed.\n",
    "* This notebook uses the Orientation Histogram data stored as orientationDistribution_CoherencyWeighted.csv, resp. orientationDistribution_Unweighted.csv. This data was automatically generated during fiber analysis in Fiji and should not be renamed.\n",
    "\n",
    "#### General Jupyter Notebook Usage: The basics\n",
    "* The notebook is executed cell-by-cell.\n",
    "* The active/current cell is visible by being surrounded by a blue or green box.\n",
    "* Green box: edit mode. Blue box: view mode. To exit the edit mode: press Esc\n",
    "* To run a cell: Press Shift+Enter (runs the cell and automatically advances to the next cell)\n",
    "* Auto-complete is supported (convenient when you e.g. type a folder location): start typing, then press Tab key.\n",
    "* When you are completely finished: Click on Kernel->Shutdown and close all notebooks related tabs.\n",
    "* If you want to do a fresh start of the analysis: click on Kernel -> Restart and Clear Output\n",
    "\n",
    "#### Usage of this notebook:\n",
    "* Start at part 1 and/or part 2.\n",
    "* Run cells step-by-step.\n",
    "* Some cells are titled \"Adjust\". Adjust the content (data folder etc.) before running them. \n",
    "    * Note: if you accidentally ran it already, simply click on it, adjust the content, and run it again.   \n",
    "    \n",
    "#### Good to know:\n",
    "* part 2 assumes that the planarian is vertically aligned.\n",
    "\n",
    "\n",
    "#### Changelog\n",
    "* 2019-07-18: added part 2: combine multiple datasets\n",
    "* 2019-06-11: added figure with normalized orientation distribution\n",
    "\n",
    "==================================================================================================="
   ]
  },
  {
   "cell_type": "markdown",
   "metadata": {},
   "source": [
    "### Preparations: always run this cell."
   ]
  },
  {
   "cell_type": "code",
   "execution_count": null,
   "metadata": {},
   "outputs": [],
   "source": [
    "import os, sys\n",
    "import numpy as np\n",
    "import pandas as pd\n",
    "import matplotlib.pyplot as plt\n",
    "\n",
    "%load_ext autoreload\n",
    "%autoreload 2\n",
    "\n",
    "from helpers_histogram_analysis import *"
   ]
  },
  {
   "cell_type": "markdown",
   "metadata": {},
   "source": [
    "<br>\n",
    "\n",
    "## Part 1: analysis of a single dataset\n",
    "\n",
    "\n",
    "\n",
    "### This cell: Adjust"
   ]
  },
  {
   "cell_type": "code",
   "execution_count": null,
   "metadata": {},
   "outputs": [],
   "source": [
    "# == folder where your final .csv data resides (typically \"/some/path/5_orientation_analysis/data\") ==\n",
    "data_folder=\"/Users/walker/Projects/OrientationMuscleFibers_2283/repo_public/example_data/results/testdata/5_orientation_analysis/data/\"\n",
    "\n",
    "# == weighted or unweighted histogram (weighted=weighted by coherency). == \n",
    "# Recommended: use_weighted=True\n",
    "use_weighted=True # options: True, False"
   ]
  },
  {
   "cell_type": "markdown",
   "metadata": {},
   "source": [
    "### Automatic: Load the csv data and display a few lines"
   ]
  },
  {
   "cell_type": "code",
   "execution_count": null,
   "metadata": {},
   "outputs": [],
   "source": [
    "fn_load=get_filename_csv_histdata(data_folder, use_weighted)\n",
    "\n",
    "df=pd.read_csv(fn_load)\n",
    "display(df.head())\n",
    "\n",
    "# convert to numpy. remove the \"sliceX\" string label. first row: slice1, second rw: slice2 etc\n",
    "data=(df.iloc[:,1:]).values"
   ]
  },
  {
   "cell_type": "markdown",
   "metadata": {},
   "source": [
    "<br>\n",
    "\n",
    "### This cell: Adjust. Specify the details of the histogram plot. "
   ]
  },
  {
   "cell_type": "code",
   "execution_count": null,
   "metadata": {},
   "outputs": [],
   "source": [
    "# == choose slices to be plotted ==\n",
    "# options: None (uses all), or a list with slice numbers (counting starts at 1), e.g. [8,10,12]\n",
    "slice_selection=None\n",
    "#slice_selection=[10,22,30]\n",
    "\n",
    "# == choose color map: every string from here https://matplotlib.org/tutorials/colors/colormaps.html will work. ==\n",
    "# careful: some color ranges extend to white -> invisible.\n",
    "# recommended: None (will use a default), \"jet\", \"gnuplot\", \"copper\"\n",
    "color_map=None"
   ]
  },
  {
   "cell_type": "markdown",
   "metadata": {},
   "source": [
    "### Automatic: plots the orientation histogram and the coherency\n",
    "#### un-normalized distribution"
   ]
  },
  {
   "cell_type": "code",
   "execution_count": null,
   "metadata": {},
   "outputs": [],
   "source": [
    "plot_hist(data,slice_selection,use_weighted,False,data_folder, color_map, ylim=None)"
   ]
  },
  {
   "cell_type": "markdown",
   "metadata": {},
   "source": [
    "#### distribution normalized to max=1 (per slice)"
   ]
  },
  {
   "cell_type": "code",
   "execution_count": null,
   "metadata": {},
   "outputs": [],
   "source": [
    "plot_hist(data,slice_selection,use_weighted,True,data_folder, color_map, ylim=None)"
   ]
  },
  {
   "cell_type": "markdown",
   "metadata": {},
   "source": [
    "#### average coherency per slice"
   ]
  },
  {
   "cell_type": "code",
   "execution_count": null,
   "metadata": {},
   "outputs": [],
   "source": [
    "plot_coherency(data,use_weighted,data_folder)"
   ]
  },
  {
   "cell_type": "code",
   "execution_count": null,
   "metadata": {
    "scrolled": true
   },
   "outputs": [],
   "source": []
  },
  {
   "cell_type": "markdown",
   "metadata": {},
   "source": [
    "<br>\n",
    "\n",
    "## Part 2: Combine multiple datasets and get statistics\n",
    "### This cell: Adjust\n",
    "\n",
    "**data_dir_list:** <br>\n",
    "Specify a list of folders where your final .csv files reside. The folders should belong to replicates of the same experiment. <br>\n",
    "Example (be careful with the [] and commas):\n",
    ">data_dir_list=[<br>\n",
    "\"/experiment_1/5_orientation_analysis/data\",<br>\n",
    "\"/experiment_2/5_orientation_analysis/data\",<br>\n",
    "\"/experiment_3/5_orientation_analysis/data\"<br>\n",
    "]\n",
    "\n",
    "**save_dir:** <br>\n",
    "Folder where to save the figures. Will be created if the path does not exist."
   ]
  },
  {
   "cell_type": "code",
   "execution_count": null,
   "metadata": {},
   "outputs": [],
   "source": [
    "data_dir_list=[\n",
    "    \"/Users/walker/Projects/OrientationMuscleFibers_2283/enhancements/2019-07-histogram_averaging/data/EGFP_ventralsides/data_1_1/\",\n",
    "    \"/Users/walker/Projects/OrientationMuscleFibers_2283/enhancements/2019-07-histogram_averaging/data/EGFP_ventralsides/data_1_2/\",\n",
    "    \"/Users/walker/Projects/OrientationMuscleFibers_2283/enhancements/2019-07-histogram_averaging/data/EGFP_ventralsides/data_2_3/\",\n",
    "    \"/Users/walker/Projects/OrientationMuscleFibers_2283/enhancements/2019-07-histogram_averaging/data/EGFP_ventralsides/data_2_4/\"\n",
    "]\n",
    "\n",
    "save_dir=\"/Users/walker/Projects/JamesHanh_OrientationMuscleFibers_2283/tmp/\""
   ]
  },
  {
   "cell_type": "markdown",
   "metadata": {},
   "source": [
    "### Automatic: Get statistics of combined datasets\n",
    "#### Load all datasets and find slices with highest peak"
   ]
  },
  {
   "cell_type": "code",
   "execution_count": null,
   "metadata": {},
   "outputs": [],
   "source": [
    "if not os.path.exists(save_dir):\n",
    "    os.makedirs(save_dir)\n",
    "\n",
    "use_weighted=True # coherency weighted\n",
    "\n",
    "datasets,sliceids_circ,sliceids_long=load_datasets_and_find_peaks(data_dir_list,use_weighted,\n",
    "       peak_circular_expected=0,peak_longitudinal_expected=90) # expected peak locations in degree, between [-90,90]"
   ]
  },
  {
   "cell_type": "markdown",
   "metadata": {},
   "source": [
    "#### Show the selected slices"
   ]
  },
  {
   "cell_type": "code",
   "execution_count": null,
   "metadata": {},
   "outputs": [],
   "source": [
    "titles=[\"dataset \"+str(x) for x in range(len(data_dir_list))]\n",
    "quick_plot_of_peak_selection(datasets,use_weighted,sliceids_long,sliceids_circ,titles,save_dir=save_dir,ylim=None)"
   ]
  },
  {
   "cell_type": "markdown",
   "metadata": {},
   "source": [
    "#### Final result: Compute statistics and plot them"
   ]
  },
  {
   "cell_type": "code",
   "execution_count": null,
   "metadata": {},
   "outputs": [],
   "source": [
    "ymean_circ, ystddev_circ, ymean_long, ystddev_long=get_statistics(datasets,sliceids_long,sliceids_circ)\n",
    "\n",
    "plot_average_histogram(ymean_circ,ystddev_circ,ymean_long,ystddev_long, numsamples=len(datasets),\n",
    "                       save_dir=save_dir, ylim=None) # use e.g. ylim=[0,0.07] for fixed y-range"
   ]
  },
  {
   "cell_type": "code",
   "execution_count": null,
   "metadata": {},
   "outputs": [],
   "source": []
  },
  {
   "cell_type": "code",
   "execution_count": null,
   "metadata": {},
   "outputs": [],
   "source": []
  }
 ],
 "metadata": {
  "kernelspec": {
   "display_name": "Python 3",
   "language": "python",
   "name": "python3"
  },
  "language_info": {
   "codemirror_mode": {
    "name": "ipython",
    "version": 3
   },
   "file_extension": ".py",
   "mimetype": "text/x-python",
   "name": "python",
   "nbconvert_exporter": "python",
   "pygments_lexer": "ipython3",
   "version": "3.7.5"
  }
 },
 "nbformat": 4,
 "nbformat_minor": 2
}
